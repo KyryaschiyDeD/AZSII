{
  "nbformat": 4,
  "nbformat_minor": 0,
  "metadata": {
    "colab": {
      "provenance": []
    },
    "kernelspec": {
      "name": "python3",
      "display_name": "Python 3"
    },
    "language_info": {
      "name": "python"
    }
  },
  "cells": [
    {
      "cell_type": "markdown",
      "source": [
        "# Анализ защищенности систем искусственного интеллекта\n",
        "# Практикческая работа №8\n",
        "## Методы защиты от атак на модели ИИ\n",
        "## Выполнил студент группы ББМО-02-23\n",
        "## Макаров Михаил Максимович"
      ],
      "metadata": {
        "id": "xm1NLVoWCWAg"
      }
    },
    {
      "cell_type": "markdown",
      "source": [
        "## Цель задания:\n",
        "Изучить методы защиты моделей ИИ от различных атак, включая методы защиты на уровне данных,\n",
        "моделирования и обучения. Реализовать эти методы и проверить их эффективность против атак,\n",
        "изученных ранее.\n"
      ],
      "metadata": {
        "id": "T6qfGSMkC7HY"
      }
    },
    {
      "cell_type": "markdown",
      "source": [
        "### Шаг 1. Защита с помощью Adversarial Training"
      ],
      "metadata": {
        "id": "gwvdGh90DAT5"
      }
    },
    {
      "cell_type": "markdown",
      "source": [
        "Adversarial Training — это подход к повышению устойчивости моделей, при котором обучение проводится с использованием противоречивых примеров. В процессе обучения модель \"знакомится\" с такими примерами, что позволяет ей лучше распознавать и противостоять атакам, делая её более устойчивой к потенциальным угрозам."
      ],
      "metadata": {
        "id": "R-foaJf2DWyd"
      }
    },
    {
      "cell_type": "code",
      "execution_count": 1,
      "metadata": {
        "colab": {
          "base_uri": "https://localhost:8080/"
        },
        "id": "sFMnDkKMCQDd",
        "outputId": "b8336bd0-b4fb-43b7-867e-d983a1a35f42"
      },
      "outputs": [
        {
          "output_type": "stream",
          "name": "stdout",
          "text": [
            "Downloading data from https://storage.googleapis.com/tensorflow/tf-keras-datasets/mnist.npz\n",
            "\u001b[1m11490434/11490434\u001b[0m \u001b[32m━━━━━━━━━━━━━━━━━━━━\u001b[0m\u001b[37m\u001b[0m \u001b[1m0s\u001b[0m 0us/step\n"
          ]
        },
        {
          "output_type": "stream",
          "name": "stderr",
          "text": [
            "/usr/local/lib/python3.10/dist-packages/keras/src/layers/reshaping/flatten.py:37: UserWarning: Do not pass an `input_shape`/`input_dim` argument to a layer. When using Sequential models, prefer using an `Input(shape)` object as the first layer in the model instead.\n",
            "  super().__init__(**kwargs)\n"
          ]
        },
        {
          "output_type": "stream",
          "name": "stdout",
          "text": [
            "Epoch:0\n"
          ]
        },
        {
          "output_type": "stream",
          "name": "stderr",
          "text": [
            "WARNING:tensorflow:5 out of the last 5 calls to <function TensorFlowTrainer.make_train_function.<locals>.one_step_on_iterator at 0x7d39219bec20> triggered tf.function retracing. Tracing is expensive and the excessive number of tracings could be due to (1) creating @tf.function repeatedly in a loop, (2) passing tensors with different shapes, (3) passing Python objects instead of tensors. For (1), please define your @tf.function outside of the loop. For (2), @tf.function has reduce_retracing=True option that can avoid unnecessary retracing. For (3), please refer to https://www.tensorflow.org/guide/function#controlling_retracing and https://www.tensorflow.org/api_docs/python/tf/function for  more details.\n",
            "WARNING:tensorflow:6 out of the last 6 calls to <function TensorFlowTrainer.make_train_function.<locals>.one_step_on_iterator at 0x7d39219bec20> triggered tf.function retracing. Tracing is expensive and the excessive number of tracings could be due to (1) creating @tf.function repeatedly in a loop, (2) passing tensors with different shapes, (3) passing Python objects instead of tensors. For (1), please define your @tf.function outside of the loop. For (2), @tf.function has reduce_retracing=True option that can avoid unnecessary retracing. For (3), please refer to https://www.tensorflow.org/guide/function#controlling_retracing and https://www.tensorflow.org/api_docs/python/tf/function for  more details.\n"
          ]
        },
        {
          "output_type": "stream",
          "name": "stdout",
          "text": [
            "Epoch:1\n",
            "Epoch:2\n",
            "Epoch:3\n",
            "Epoch:4\n"
          ]
        },
        {
          "output_type": "stream",
          "name": "stderr",
          "text": [
            "WARNING:absl:You are saving your model as an HDF5 file via `model.save()` or `keras.saving.save_model(model)`. This file format is considered legacy. We recommend using instead the native Keras format, e.g. `model.save('my_model.keras')` or `keras.saving.save_model(model, 'my_model.keras')`. \n"
          ]
        }
      ],
      "source": [
        "import tensorflow as tf\n",
        "import numpy as np\n",
        "from tensorflow.keras.datasets import mnist\n",
        "\n",
        "# Загрузка данных MNIST\n",
        "(train_images, train_labels), (test_images, test_labels) = mnist.load_data()\n",
        "\n",
        "# Нормализация данных: приведение значений пикселей к диапазону [0, 1]\n",
        "train_images = train_images / 255.0\n",
        "test_images = test_images / 255.0\n",
        "\n",
        "# Преобразование меток в one-hot encoding (каждая метка становится вектором из 10 элементов)\n",
        "train_labels = tf.keras.utils.to_categorical(train_labels, 10)\n",
        "test_labels = tf.keras.utils.to_categorical(test_labels, 10)\n",
        "\n",
        "# Функция FGSM атаки\n",
        "def fgsm_attack(image, epsilon, gradient):\n",
        "    # Создание возмущения: умножаем знак градиента на epsilon\n",
        "    perturbation = epsilon * np.sign(gradient)\n",
        "    # Добавление возмущения к оригинальному изображению\n",
        "    adversarial_image = image + perturbation\n",
        "    # Ограничение значений пикселей в диапазоне [0, 1]\n",
        "    adversarial_image = np.clip(adversarial_image, 0, 1)\n",
        "    return adversarial_image\n",
        "\n",
        "# Функция для генерации противоречивых примеров\n",
        "def generate_adversarial_examples(model, images, labels, epsilon):\n",
        "    adversarial_images = []  # Список для хранения противоречивых примеров\n",
        "    for i in range(len(images)):\n",
        "        # Преобразование изображения в тензор TensorFlow\n",
        "        image = tf.convert_to_tensor(images[i].reshape((1, 28, 28)))\n",
        "        label = labels[i]\n",
        "        # Если метка представлена в one-hot encoding, преобразуем её в индекс класса\n",
        "        if len(label.shape) > 1 and label.shape[1] > 1:\n",
        "            label = np.argmax(label),\n",
        "        label = tf.convert_to_tensor(label)\n",
        "\n",
        "        # Использование GradientTape для вычисления градиента\n",
        "        with tf.GradientTape() as tape:\n",
        "            tape.watch(image)  # Отслеживаем тензор изображения\n",
        "            prediction = model(image)  # Предсказание модели\n",
        "            loss = tf.keras.losses.categorical_crossentropy(label[None], prediction)  # Вычисление потерь\n",
        "        gradient = tape.gradient(loss, image)  # Вычисление градиента\n",
        "\n",
        "        # Генерация противоречивого примера с помощью FGSM\n",
        "        adversarial_image = fgsm_attack(image.numpy(), epsilon, gradient.numpy())\n",
        "        adversarial_images.append(adversarial_image.reshape(28, 28))  # Добавление примера в список\n",
        "    return np.array(adversarial_images)  # Возвращаем массив противоречивых примеров\n",
        "\n",
        "# Создание модели\n",
        "def create_model():\n",
        "    model = tf.keras.Sequential([\n",
        "        tf.keras.layers.Flatten(input_shape=(28, 28)),  # Слой для преобразования изображения в вектор\n",
        "        tf.keras.layers.Dense(128, activation='relu'),  # Полносвязный слой с 128 нейронами\n",
        "        tf.keras.layers.Dense(10, activation='softmax')  # Выходной слой с 10 нейронами (для 10 классов)\n",
        "    ])\n",
        "    # Компиляция модели с оптимизатором Adam и функцией потерь categorical_crossentropy\n",
        "    model.compile(optimizer='adam', loss='categorical_crossentropy', metrics=['accuracy'])\n",
        "    return model\n",
        "\n",
        "# Обучение модели с противоречивыми примерами (Adversarial Training)\n",
        "def adversarial_training(model, train_images, train_labels, epsilon):\n",
        "    for epoch in range(5):  # Короткое обучение для демонстрации\n",
        "        print(f'Epoch:{epoch}')\n",
        "        for i in range(0, len(train_images), 64):  # Обработка данных пакетами по 64\n",
        "            batch_images = train_images[i:i+64]  # Текущий пакет изображений\n",
        "            batch_labels = train_labels[i:i+64]  # Текущий пакет меток\n",
        "\n",
        "            # Генерация противоречивых примеров для текущего пакета\n",
        "            adversarial_images = generate_adversarial_examples(model, batch_images, batch_labels, epsilon)\n",
        "\n",
        "            # Объединение оригинальных и противоречивых примеров\n",
        "            combined_images = np.concatenate([batch_images, adversarial_images], axis=0)\n",
        "            combined_labels = np.concatenate([batch_labels, batch_labels], axis=0)\n",
        "\n",
        "            # Обучение модели на комбинированных данных\n",
        "            model.train_on_batch(combined_images, combined_labels)\n",
        "\n",
        "# Инициализация модели\n",
        "model = create_model()\n",
        "\n",
        "# Тренировка модели с защитой на противоречивых примерах\n",
        "# Ограничение тренировочных данных для ускорения обучения\n",
        "adversarial_training(model, train_images[:1500], train_labels[:1500], epsilon=0.1)\n",
        "\n",
        "# Сохранение защищенной модели\n",
        "model.save('adversarial_trained_model.h5')"
      ]
    },
    {
      "cell_type": "markdown",
      "source": [
        "### Шаг 2: Градиентная маскировка (Gradient Masking)\n",
        "Gradient Masking — это защитный механизм, направленный на ограничение доступа к градиентам модели, что затрудняет их использование для атак. Этот метод снижает объём информации, доступной злоумышленникам, и усложняет процесс поиска целенаправленных изменений, необходимых для создания противоречивых примеров.\n"
      ],
      "metadata": {
        "id": "MI_KxRocGpjB"
      }
    },
    {
      "cell_type": "code",
      "source": [
        "# Для демонстрации мы можем использовать специальные функции активации\n",
        "from tensorflow.keras.layers import Activation\n",
        "# Обновление модели для градиентной маскировки\n",
        "def create_masked_model():\n",
        " model = tf.keras.Sequential([\n",
        " tf.keras.layers.Flatten(input_shape=(28, 28)),\n",
        " tf.keras.layers.Dense(128, activation='relu'),\n",
        " tf.keras.layers.Dense(10), Activation('softplus') # Используем softplus вместо softmax для градиентной маскировки\n",
        " ])\n",
        " model.compile(optimizer='adam', loss='categorical_crossentropy', metrics=['accuracy'])\n",
        " return model\n",
        "# Обучение модели с градиентной маскировкой\n",
        "masked_model = create_masked_model()\n",
        "masked_model.fit(train_images, train_labels, epochs=5)\n",
        "# Сохранение модели с градиентной маскировкой\n",
        "masked_model.save('masked_model.h5')"
      ],
      "metadata": {
        "colab": {
          "base_uri": "https://localhost:8080/"
        },
        "id": "CjOefVyqGpV5",
        "outputId": "bd17b4e6-5c0d-42be-9c8e-fe748420b9b1"
      },
      "execution_count": 2,
      "outputs": [
        {
          "output_type": "stream",
          "name": "stdout",
          "text": [
            "Epoch 1/5\n",
            "\u001b[1m1875/1875\u001b[0m \u001b[32m━━━━━━━━━━━━━━━━━━━━\u001b[0m\u001b[37m\u001b[0m \u001b[1m7s\u001b[0m 3ms/step - accuracy: 0.8743 - loss: 0.4681\n",
            "Epoch 2/5\n",
            "\u001b[1m1875/1875\u001b[0m \u001b[32m━━━━━━━━━━━━━━━━━━━━\u001b[0m\u001b[37m\u001b[0m \u001b[1m10s\u001b[0m 3ms/step - accuracy: 0.9618 - loss: 0.1274\n",
            "Epoch 3/5\n",
            "\u001b[1m1875/1875\u001b[0m \u001b[32m━━━━━━━━━━━━━━━━━━━━\u001b[0m\u001b[37m\u001b[0m \u001b[1m7s\u001b[0m 4ms/step - accuracy: 0.9743 - loss: 0.0860\n",
            "Epoch 4/5\n",
            "\u001b[1m1875/1875\u001b[0m \u001b[32m━━━━━━━━━━━━━━━━━━━━\u001b[0m\u001b[37m\u001b[0m \u001b[1m9s\u001b[0m 3ms/step - accuracy: 0.9822 - loss: 0.0613\n",
            "Epoch 5/5\n",
            "\u001b[1m1875/1875\u001b[0m \u001b[32m━━━━━━━━━━━━━━━━━━━━\u001b[0m\u001b[37m\u001b[0m \u001b[1m7s\u001b[0m 4ms/step - accuracy: 0.9847 - loss: 0.0509\n"
          ]
        },
        {
          "output_type": "stream",
          "name": "stderr",
          "text": [
            "WARNING:absl:You are saving your model as an HDF5 file via `model.save()` or `keras.saving.save_model(model)`. This file format is considered legacy. We recommend using instead the native Keras format, e.g. `model.save('my_model.keras')` or `keras.saving.save_model(model, 'my_model.keras')`. \n"
          ]
        }
      ]
    },
    {
      "cell_type": "markdown",
      "source": [
        "### Шаг 3: Регуляризация и нормализация для повышения устойчивости"
      ],
      "metadata": {
        "id": "0xe03dRVG_Kx"
      }
    },
    {
      "cell_type": "code",
      "source": [
        "# Модель с регуляризацией и нормализацией\n",
        "def create_regularized_model():\n",
        " model = tf.keras.Sequential([\n",
        " tf.keras.layers.Flatten(input_shape=(28, 28)),\n",
        " tf.keras.layers.Dense(128, activation='relu', kernel_regularizer=tf.keras.regularizers.l2(0.01)),\n",
        " tf.keras.layers.Dropout(0.5),\n",
        " tf.keras.layers.BatchNormalization(),\n",
        " tf.keras.layers.Dense(10, activation='softmax')\n",
        " ])\n",
        " model.compile(optimizer='adam', loss='categorical_crossentropy',\n",
        "metrics=['accuracy'])\n",
        " return model\n",
        "# Обучение модели с регуляризацией и нормализацией\n",
        "regularized_model = create_regularized_model()\n",
        "regularized_model.fit(train_images, train_labels, epochs=5)\n",
        "# Сохранение модели с регуляризацией\n",
        "regularized_model.save('regularized_model.h5')"
      ],
      "metadata": {
        "colab": {
          "base_uri": "https://localhost:8080/"
        },
        "id": "E4r4aaT1GpSu",
        "outputId": "9cbcc5d2-5352-403e-c45e-aff842d7c577"
      },
      "execution_count": 3,
      "outputs": [
        {
          "output_type": "stream",
          "name": "stdout",
          "text": [
            "Epoch 1/5\n",
            "\u001b[1m1875/1875\u001b[0m \u001b[32m━━━━━━━━━━━━━━━━━━━━\u001b[0m\u001b[37m\u001b[0m \u001b[1m10s\u001b[0m 4ms/step - accuracy: 0.7984 - loss: 1.3181\n",
            "Epoch 2/5\n",
            "\u001b[1m1875/1875\u001b[0m \u001b[32m━━━━━━━━━━━━━━━━━━━━\u001b[0m\u001b[37m\u001b[0m \u001b[1m9s\u001b[0m 4ms/step - accuracy: 0.8717 - loss: 0.6142\n",
            "Epoch 3/5\n",
            "\u001b[1m1875/1875\u001b[0m \u001b[32m━━━━━━━━━━━━━━━━━━━━\u001b[0m\u001b[37m\u001b[0m \u001b[1m9s\u001b[0m 3ms/step - accuracy: 0.8628 - loss: 0.6202\n",
            "Epoch 4/5\n",
            "\u001b[1m1875/1875\u001b[0m \u001b[32m━━━━━━━━━━━━━━━━━━━━\u001b[0m\u001b[37m\u001b[0m \u001b[1m8s\u001b[0m 4ms/step - accuracy: 0.8622 - loss: 0.6202\n",
            "Epoch 5/5\n",
            "\u001b[1m1875/1875\u001b[0m \u001b[32m━━━━━━━━━━━━━━━━━━━━\u001b[0m\u001b[37m\u001b[0m \u001b[1m9s\u001b[0m 4ms/step - accuracy: 0.8606 - loss: 0.6194\n"
          ]
        },
        {
          "output_type": "stream",
          "name": "stderr",
          "text": [
            "WARNING:absl:You are saving your model as an HDF5 file via `model.save()` or `keras.saving.save_model(model)`. This file format is considered legacy. We recommend using instead the native Keras format, e.g. `model.save('my_model.keras')` or `keras.saving.save_model(model, 'my_model.keras')`. \n"
          ]
        }
      ]
    },
    {
      "cell_type": "markdown",
      "source": [
        "### Шаг 4: Оценка моделей на противоречивых примерах"
      ],
      "metadata": {
        "id": "R9GAzQp-HUIO"
      }
    },
    {
      "cell_type": "code",
      "source": [
        "# Загрузка атакованной модели\n",
        "protected_model = tf.keras.models.load_model('adversarial_trained_model.h5')\n",
        "# Генерация противоречивых примеров для тестовых данных\n",
        "adversarial_test_images = generate_adversarial_examples(protected_model, test_images[1000:2000], test_labels[1000:2000], epsilon=0.1)\n",
        "# Оценка защищенной модели на противоречивых примерах\n",
        "test_loss, test_acc = protected_model.evaluate(adversarial_test_images, test_labels[1000:2000])\n",
        "print(f'Accuracy of protected model on adversarial examples: {test_acc}')"
      ],
      "metadata": {
        "colab": {
          "base_uri": "https://localhost:8080/"
        },
        "id": "R5n9E7DEHefp",
        "outputId": "9bad4912-a568-439c-f6e4-a0758fc57bd2"
      },
      "execution_count": 4,
      "outputs": [
        {
          "output_type": "stream",
          "name": "stderr",
          "text": [
            "WARNING:absl:Compiled the loaded model, but the compiled metrics have yet to be built. `model.compile_metrics` will be empty until you train or evaluate the model.\n"
          ]
        },
        {
          "output_type": "stream",
          "name": "stdout",
          "text": [
            "\u001b[1m32/32\u001b[0m \u001b[32m━━━━━━━━━━━━━━━━━━━━\u001b[0m\u001b[37m\u001b[0m \u001b[1m0s\u001b[0m 1ms/step - accuracy: 0.4330 - loss: 1.5901  \n",
            "Accuracy of protected model on adversarial examples: 0.4449999928474426\n"
          ]
        }
      ]
    },
    {
      "cell_type": "markdown",
      "source": [
        "Модель, обученная на противоречивых примерах, показала неудавлетворительный результат с точнсть в 44%."
      ],
      "metadata": {
        "id": "-bHZCDTEIrun"
      }
    },
    {
      "cell_type": "markdown",
      "source": [
        "Проверим также её точность на атакованных данных, используемых при обучении"
      ],
      "metadata": {
        "id": "Gg5EI02vIuOj"
      }
    },
    {
      "cell_type": "code",
      "source": [
        "adversarial_test_images = generate_adversarial_examples(protected_model, train_images[:1000], train_labels[:1000], epsilon=0.1)\n",
        "# Оценка защищенной модели на противоречивых примерах\n",
        "test_loss, test_acc = protected_model.evaluate(adversarial_test_images, train_labels[:1000])\n",
        "print(f'Accuracy of protected model on adversarial examples: {test_acc}')"
      ],
      "metadata": {
        "colab": {
          "base_uri": "https://localhost:8080/"
        },
        "id": "30gD4HJWIsj-",
        "outputId": "de548917-3d32-4e3a-ee68-b334d6e62ef8"
      },
      "execution_count": 5,
      "outputs": [
        {
          "output_type": "stream",
          "name": "stdout",
          "text": [
            "\u001b[1m32/32\u001b[0m \u001b[32m━━━━━━━━━━━━━━━━━━━━\u001b[0m\u001b[37m\u001b[0m \u001b[1m0s\u001b[0m 1ms/step - accuracy: 0.6688 - loss: 1.0718 \n",
            "Accuracy of protected model on adversarial examples: 0.6570000052452087\n"
          ]
        }
      ]
    },
    {
      "cell_type": "markdown",
      "source": [
        "Точность составила 65%. Это гораздо лучше, однако следует проверить, возможно ли можно её повысить, увеличив время обучения и выборку."
      ],
      "metadata": {
        "id": "FoYw__w_JC8l"
      }
    },
    {
      "cell_type": "code",
      "source": [
        "base_model = create_model()\n",
        "base_model.fit(train_images, train_labels, epochs=5)\n",
        "# --- Оценка моделей на противоречивых примерах ---\n",
        "test_adversarial_images = generate_adversarial_examples(base_model, test_images[:3000], test_labels[:3000], epsilon=0.1)"
      ],
      "metadata": {
        "colab": {
          "base_uri": "https://localhost:8080/"
        },
        "id": "aTnAXOB-JDmP",
        "outputId": "bfa6824b-e0b7-412a-a170-c2df68f21284"
      },
      "execution_count": 6,
      "outputs": [
        {
          "output_type": "stream",
          "name": "stdout",
          "text": [
            "Epoch 1/5\n",
            "\u001b[1m1875/1875\u001b[0m \u001b[32m━━━━━━━━━━━━━━━━━━━━\u001b[0m\u001b[37m\u001b[0m \u001b[1m9s\u001b[0m 4ms/step - accuracy: 0.8778 - loss: 0.4307\n",
            "Epoch 2/5\n",
            "\u001b[1m1875/1875\u001b[0m \u001b[32m━━━━━━━━━━━━━━━━━━━━\u001b[0m\u001b[37m\u001b[0m \u001b[1m11s\u001b[0m 5ms/step - accuracy: 0.9632 - loss: 0.1298\n",
            "Epoch 3/5\n",
            "\u001b[1m1875/1875\u001b[0m \u001b[32m━━━━━━━━━━━━━━━━━━━━\u001b[0m\u001b[37m\u001b[0m \u001b[1m8s\u001b[0m 3ms/step - accuracy: 0.9756 - loss: 0.0795\n",
            "Epoch 4/5\n",
            "\u001b[1m1875/1875\u001b[0m \u001b[32m━━━━━━━━━━━━━━━━━━━━\u001b[0m\u001b[37m\u001b[0m \u001b[1m8s\u001b[0m 4ms/step - accuracy: 0.9825 - loss: 0.0587\n",
            "Epoch 5/5\n",
            "\u001b[1m1875/1875\u001b[0m \u001b[32m━━━━━━━━━━━━━━━━━━━━\u001b[0m\u001b[37m\u001b[0m \u001b[1m7s\u001b[0m 4ms/step - accuracy: 0.9859 - loss: 0.0452\n"
          ]
        }
      ]
    },
    {
      "cell_type": "code",
      "source": [
        "# Оценка защищенных моделей\n",
        "print(\"Evaluation of models on adversarial examples:\")\n",
        "print(\"Base Model Accuracy on Adversarial Examples:\")\n",
        "base_model.evaluate(test_adversarial_images, test_labels[:3000])\n",
        "print(\"Adversarially Trained Model Accuracy on Adversarial Examples:\")\n",
        "protected_model.evaluate(test_adversarial_images, test_labels[:3000])\n",
        "print(\"Masked Model Accuracy on Adversarial Examples:\")\n",
        "masked_model.evaluate(test_adversarial_images, test_labels[:3000])\n",
        "print(\"Regularized Model Accuracy on Adversarial Examples:\")\n",
        "regularized_model.evaluate(test_adversarial_images, test_labels[:3000])"
      ],
      "metadata": {
        "colab": {
          "base_uri": "https://localhost:8080/"
        },
        "id": "fIlnr7BRbEh9",
        "outputId": "3fe7f234-794d-44d5-c7b3-4ce24be4acfd"
      },
      "execution_count": 7,
      "outputs": [
        {
          "output_type": "stream",
          "name": "stdout",
          "text": [
            "Evaluation of models on adversarial examples:\n",
            "Base Model Accuracy on Adversarial Examples:\n",
            "\u001b[1m94/94\u001b[0m \u001b[32m━━━━━━━━━━━━━━━━━━━━\u001b[0m\u001b[37m\u001b[0m \u001b[1m0s\u001b[0m 2ms/step - accuracy: 0.0730 - loss: 6.3795\n",
            "Adversarially Trained Model Accuracy on Adversarial Examples:\n",
            "\u001b[1m94/94\u001b[0m \u001b[32m━━━━━━━━━━━━━━━━━━━━\u001b[0m\u001b[37m\u001b[0m \u001b[1m0s\u001b[0m 2ms/step - accuracy: 0.6976 - loss: 0.9389\n",
            "Masked Model Accuracy on Adversarial Examples:\n",
            "\u001b[1m94/94\u001b[0m \u001b[32m━━━━━━━━━━━━━━━━━━━━\u001b[0m\u001b[37m\u001b[0m \u001b[1m0s\u001b[0m 2ms/step - accuracy: 0.2205 - loss: 4.4327\n",
            "Regularized Model Accuracy on Adversarial Examples:\n",
            "\u001b[1m94/94\u001b[0m \u001b[32m━━━━━━━━━━━━━━━━━━━━\u001b[0m\u001b[37m\u001b[0m \u001b[1m0s\u001b[0m 2ms/step - accuracy: 0.6983 - loss: 1.0130\n"
          ]
        },
        {
          "output_type": "execute_result",
          "data": {
            "text/plain": [
              "[1.0554959774017334, 0.687333345413208]"
            ]
          },
          "metadata": {},
          "execution_count": 7
        }
      ]
    },
    {
      "cell_type": "markdown",
      "source": [
        "Как видно, модель, обученная на противоречивых примерах, и модель с регуляризацией и нормализацией показали неплохой результат. Лучший принадлежит модели на противорчеивых данных. Около 70%. А модель с маскировкой спраивлась гораздо хуже. Лишь 20%."
      ],
      "metadata": {
        "id": "r2mZxHwgbH6z"
      }
    },
    {
      "cell_type": "markdown",
      "source": [
        "Противоречивые примеры были сгенерированы на базовой модели. Посмотрим, как поведут себя модели, если противоречивые примеры будут сгенерированы конкретно для них\n"
      ],
      "metadata": {
        "id": "Ohty1ZSEbJd3"
      }
    },
    {
      "cell_type": "code",
      "source": [
        "adversarial_test_images = generate_adversarial_examples(masked_model, train_images[:1000], train_labels[:1000], epsilon=0.1)\n",
        "# Оценка защищенной модели на противоречивых примерах\n",
        "test_loss, test_acc = masked_model.evaluate(adversarial_test_images, train_labels[:1000])\n",
        "print(f'Accuracy of masked model on adversarial examples: {test_acc}')"
      ],
      "metadata": {
        "colab": {
          "base_uri": "https://localhost:8080/"
        },
        "id": "B6_OitlQbMfG",
        "outputId": "7d784b1d-11f2-4c4a-ac75-bef229546139"
      },
      "execution_count": 8,
      "outputs": [
        {
          "output_type": "stream",
          "name": "stdout",
          "text": [
            "\u001b[1m32/32\u001b[0m \u001b[32m━━━━━━━━━━━━━━━━━━━━\u001b[0m\u001b[37m\u001b[0m \u001b[1m0s\u001b[0m 2ms/step - accuracy: 0.1353 - loss: 5.9869\n",
            "Accuracy of masked model on adversarial examples: 0.13600000739097595\n"
          ]
        }
      ]
    },
    {
      "cell_type": "code",
      "source": [
        "adversarial_test_images = generate_adversarial_examples(regularized_model, train_images[:1000], train_labels[:1000], epsilon=0.1)\n",
        "# Оценка защищенной модели на противоречивых примерах\n",
        "test_loss, test_acc = regularized_model.evaluate(adversarial_test_images, train_labels[:1000])\n",
        "\n",
        "print(f'Accuracy of regularized model on adversarial examples: {test_acc}')"
      ],
      "metadata": {
        "colab": {
          "base_uri": "https://localhost:8080/"
        },
        "id": "2oVsgxDzbOXp",
        "outputId": "9653520f-da41-48cc-ac73-3c9d92627d90"
      },
      "execution_count": 9,
      "outputs": [
        {
          "output_type": "stream",
          "name": "stdout",
          "text": [
            "\u001b[1m32/32\u001b[0m \u001b[32m━━━━━━━━━━━━━━━━━━━━\u001b[0m\u001b[37m\u001b[0m \u001b[1m0s\u001b[0m 2ms/step - accuracy: 0.5006 - loss: 1.5969 \n",
            "Accuracy of regularized model on adversarial examples: 0.5040000081062317\n"
          ]
        }
      ]
    },
    {
      "cell_type": "markdown",
      "source": [
        "# Вывод"
      ],
      "metadata": {
        "id": "fYKR2qv4S_jF"
      }
    },
    {
      "cell_type": "markdown",
      "source": [
        "Исходя из тестов, наиболее успешными себя показали модель, обученная на противоречивых примерах, и модель с регуляризацией и нормализацией, хотя полученное значение точности все равно довольно низкое"
      ],
      "metadata": {
        "id": "y5sV3IiobQ4D"
      }
    },
    {
      "cell_type": "markdown",
      "source": [
        "## График сравнения точности моделей на противоречивых примерах"
      ],
      "metadata": {
        "id": "WVvjR2NjSKZF"
      }
    },
    {
      "cell_type": "code",
      "source": [
        "import matplotlib.pyplot as plt\n",
        "\n",
        "# Данные для графика\n",
        "models = ['Базовая модель', 'Защищённая модель', 'Модель с маскировкой', 'Регуляризованная модель']\n",
        "accuracies = [\n",
        "    base_model.evaluate(test_adversarial_images, test_labels[:3000])[1],  # Точность базовой модели\n",
        "    protected_model.evaluate(test_adversarial_images, test_labels[:3000])[1],  # Точность защищённой модели\n",
        "    masked_model.evaluate(test_adversarial_images, test_labels[:3000])[1],  # Точность модели с маскировкой\n",
        "    regularized_model.evaluate(test_adversarial_images, test_labels[:3000])[1]  # Точность регуляризованной модели\n",
        "]\n",
        "\n",
        "# Построение графика\n",
        "plt.figure(figsize=(10, 6))\n",
        "plt.bar(models, accuracies, color=['blue', 'green', 'orange', 'red'])\n",
        "plt.xlabel('Модели')\n",
        "plt.ylabel('Точность')\n",
        "plt.title('Сравнение точности моделей на противоречивых примерах')\n",
        "plt.ylim(0, 1.0)\n",
        "plt.show()"
      ],
      "metadata": {
        "colab": {
          "base_uri": "https://localhost:8080/",
          "height": 637
        },
        "id": "Cbdo0vvRSGE1",
        "outputId": "ba78bd8b-c0bd-4ebb-c453-5303f503c62d"
      },
      "execution_count": 10,
      "outputs": [
        {
          "output_type": "stream",
          "name": "stdout",
          "text": [
            "\u001b[1m94/94\u001b[0m \u001b[32m━━━━━━━━━━━━━━━━━━━━\u001b[0m\u001b[37m\u001b[0m \u001b[1m0s\u001b[0m 2ms/step - accuracy: 0.0730 - loss: 6.3795\n",
            "\u001b[1m94/94\u001b[0m \u001b[32m━━━━━━━━━━━━━━━━━━━━\u001b[0m\u001b[37m\u001b[0m \u001b[1m0s\u001b[0m 2ms/step - accuracy: 0.6976 - loss: 0.9389\n",
            "\u001b[1m94/94\u001b[0m \u001b[32m━━━━━━━━━━━━━━━━━━━━\u001b[0m\u001b[37m\u001b[0m \u001b[1m0s\u001b[0m 2ms/step - accuracy: 0.2205 - loss: 4.4327\n",
            "\u001b[1m94/94\u001b[0m \u001b[32m━━━━━━━━━━━━━━━━━━━━\u001b[0m\u001b[37m\u001b[0m \u001b[1m0s\u001b[0m 2ms/step - accuracy: 0.6983 - loss: 1.0130\n"
          ]
        },
        {
          "output_type": "display_data",
          "data": {
            "text/plain": [
              "<Figure size 1000x600 with 1 Axes>"
            ],
            "image/png": "[encoded data removed]"
          },
          "metadata": {}
        }
      ]
    },
    {
      "cell_type": "markdown",
      "source": [
        "## Таблица с результатами оценки моделей:"
      ],
      "metadata": {
        "id": "MmWuT_xESMj1"
      }
    },
    {
      "cell_type": "code",
      "source": [
        "from tabulate import tabulate\n",
        "\n",
        "# Данные для таблицы\n",
        "table = [\n",
        "    [\"Модель\", \"Точность\", \"Потери\"],\n",
        "    [\"Базовая модель\", base_model.evaluate(test_adversarial_images, test_labels[:3000])[1], base_model.evaluate(test_adversarial_images, test_labels[:3000])[0]],\n",
        "    [\"Защищённая модель\", protected_model.evaluate(test_adversarial_images, test_labels[:3000])[1], protected_model.evaluate(test_adversarial_images, test_labels[:3000])[0]],\n",
        "    [\"Модель с маскировкой\", masked_model.evaluate(test_adversarial_images, test_labels[:3000])[1], masked_model.evaluate(test_adversarial_images, test_labels[:3000])[0]],\n",
        "    [\"Регуляризованная модель\", regularized_model.evaluate(test_adversarial_images, test_labels[:3000])[1], regularized_model.evaluate(test_adversarial_images, test_labels[:3000])[0]]\n",
        "]\n",
        "\n",
        "# Вывод таблицы\n",
        "print(tabulate(table, headers=\"firstrow\", tablefmt=\"pretty\"))"
      ],
      "metadata": {
        "colab": {
          "base_uri": "https://localhost:8080/"
        },
        "id": "sHqlpB6mR_Q8",
        "outputId": "0339288b-2a31-4015-be42-7bb1df6e5c74"
      },
      "execution_count": 11,
      "outputs": [
        {
          "output_type": "stream",
          "name": "stdout",
          "text": [
            "\u001b[1m94/94\u001b[0m \u001b[32m━━━━━━━━━━━━━━━━━━━━\u001b[0m\u001b[37m\u001b[0m \u001b[1m0s\u001b[0m 3ms/step - accuracy: 0.0730 - loss: 6.3795\n",
            "\u001b[1m94/94\u001b[0m \u001b[32m━━━━━━━━━━━━━━━━━━━━\u001b[0m\u001b[37m\u001b[0m \u001b[1m0s\u001b[0m 3ms/step - accuracy: 0.0730 - loss: 6.3795\n",
            "\u001b[1m94/94\u001b[0m \u001b[32m━━━━━━━━━━━━━━━━━━━━\u001b[0m\u001b[37m\u001b[0m \u001b[1m0s\u001b[0m 5ms/step - accuracy: 0.6976 - loss: 0.9389\n",
            "\u001b[1m94/94\u001b[0m \u001b[32m━━━━━━━━━━━━━━━━━━━━\u001b[0m\u001b[37m\u001b[0m \u001b[1m0s\u001b[0m 3ms/step - accuracy: 0.6976 - loss: 0.9389\n",
            "\u001b[1m94/94\u001b[0m \u001b[32m━━━━━━━━━━━━━━━━━━━━\u001b[0m\u001b[37m\u001b[0m \u001b[1m0s\u001b[0m 3ms/step - accuracy: 0.2205 - loss: 4.4327\n",
            "\u001b[1m94/94\u001b[0m \u001b[32m━━━━━━━━━━━━━━━━━━━━\u001b[0m\u001b[37m\u001b[0m \u001b[1m0s\u001b[0m 3ms/step - accuracy: 0.2205 - loss: 4.4327\n",
            "\u001b[1m94/94\u001b[0m \u001b[32m━━━━━━━━━━━━━━━━━━━━\u001b[0m\u001b[37m\u001b[0m \u001b[1m0s\u001b[0m 2ms/step - accuracy: 0.6983 - loss: 1.0130\n",
            "\u001b[1m94/94\u001b[0m \u001b[32m━━━━━━━━━━━━━━━━━━━━\u001b[0m\u001b[37m\u001b[0m \u001b[1m0s\u001b[0m 2ms/step - accuracy: 0.6983 - loss: 1.0130\n",
            "+-------------------------+---------------------+--------------------+\n",
            "|         Модель          |      Точность       |       Потери       |\n",
            "+-------------------------+---------------------+--------------------+\n",
            "|     Базовая модель      | 0.07699999958276749 | 6.4156341552734375 |\n",
            "|    Защищённая модель    | 0.6919999718666077  | 0.9657512307167053 |\n",
            "|  Модель с маскировкой   | 0.21699999272823334 | 4.491795539855957  |\n",
            "| Регуляризованная модель |  0.687333345413208  | 1.0554959774017334 |\n",
            "+-------------------------+---------------------+--------------------+\n"
          ]
        }
      ]
    },
    {
      "cell_type": "markdown",
      "source": [
        "## График потерь моделей на противоречивых примерах:"
      ],
      "metadata": {
        "id": "_HtpOuCjSQqb"
      }
    },
    {
      "cell_type": "code",
      "source": [
        "# Данные для графика\n",
        "losses = [\n",
        "    base_model.evaluate(test_adversarial_images, test_labels[:3000])[0],  # Потери базовой модели\n",
        "    protected_model.evaluate(test_adversarial_images, test_labels[:3000])[0],  # Потери защищённой модели\n",
        "    masked_model.evaluate(test_adversarial_images, test_labels[:3000])[0],  # Потери модели с маскировкой\n",
        "    regularized_model.evaluate(test_adversarial_images, test_labels[:3000])[0]  # Потери регуляризованной модели\n",
        "]\n",
        "\n",
        "# Построение графика\n",
        "plt.figure(figsize=(10, 6))\n",
        "plt.bar(models, losses, color=['blue', 'green', 'orange', 'red'])\n",
        "plt.xlabel('Модели')\n",
        "plt.ylabel('Потери')\n",
        "plt.title('Сравнение потерь моделей на противоречивых примерах')\n",
        "plt.ylim(0, max(losses) + 0.5)\n",
        "plt.show()"
      ],
      "metadata": {
        "colab": {
          "base_uri": "https://localhost:8080/",
          "height": 637
        },
        "id": "Qqn2BGhvSBNb",
        "outputId": "4d44e6ab-3330-4e3c-f432-1c6f7fe71957"
      },
      "execution_count": 12,
      "outputs": [
        {
          "output_type": "stream",
          "name": "stdout",
          "text": [
            "\u001b[1m94/94\u001b[0m \u001b[32m━━━━━━━━━━━━━━━━━━━━\u001b[0m\u001b[37m\u001b[0m \u001b[1m0s\u001b[0m 2ms/step - accuracy: 0.0730 - loss: 6.3795\n",
            "\u001b[1m94/94\u001b[0m \u001b[32m━━━━━━━━━━━━━━━━━━━━\u001b[0m\u001b[37m\u001b[0m \u001b[1m0s\u001b[0m 1ms/step - accuracy: 0.6976 - loss: 0.9389\n",
            "\u001b[1m94/94\u001b[0m \u001b[32m━━━━━━━━━━━━━━━━━━━━\u001b[0m\u001b[37m\u001b[0m \u001b[1m0s\u001b[0m 2ms/step - accuracy: 0.2205 - loss: 4.4327\n",
            "\u001b[1m94/94\u001b[0m \u001b[32m━━━━━━━━━━━━━━━━━━━━\u001b[0m\u001b[37m\u001b[0m \u001b[1m0s\u001b[0m 2ms/step - accuracy: 0.6983 - loss: 1.0130\n"
          ]
        },
        {
          "output_type": "display_data",
          "data": {
            "text/plain": [
              "<Figure size 1000x600 with 1 Axes>"
            ],
            "image/png": "[encoded data removed]"
          },
          "metadata": {}
        }
      ]
    },
    {
      "cell_type": "markdown",
      "source": [
        "## Визуализация противоречивых примеров:"
      ],
      "metadata": {
        "id": "k3wstcPcSS8Q"
      }
    },
    {
      "cell_type": "code",
      "source": [
        "# Визуализация первых 10 противоречивых примеров\n",
        "plt.figure(figsize=(10, 4))\n",
        "for i in range(10):\n",
        "    plt.subplot(2, 5, i + 1)\n",
        "    plt.imshow(test_adversarial_images[i].reshape(28, 28), cmap='gray')\n",
        "    plt.title(f'Пример {i+1}')\n",
        "    plt.axis('off')\n",
        "plt.suptitle('Противоречивые примеры, сгенерированные для тестовых данных')\n",
        "plt.show()"
      ],
      "metadata": {
        "colab": {
          "base_uri": "https://localhost:8080/",
          "height": 381
        },
        "id": "j5ucoyrTSC-v",
        "outputId": "5bf46da2-2fb1-470a-f745-5421b70aed6f"
      },
      "execution_count": 13,
      "outputs": [
        {
          "output_type": "display_data",
          "data": {
            "text/plain": [
              "<Figure size 1000x400 with 10 Axes>"
            ],
            "image/png": "[encoded data removed]"
          },
          "metadata": {}
        }
      ]
    },
    {
      "cell_type": "markdown",
      "source": [
        "График точности: Наглядно показывает, какая модель лучше справляется с противоречивыми примерами.\n",
        "\n",
        "Таблица: Содержит точные численные значения точности и потерь для каждой модели.\n",
        "\n",
        "График потерь: Показывает, насколько сильно модели ошибаются на противоречивых данных.\n",
        "\n",
        "Визуализация примеров: Позволяет оценить качество сгенерированных противоречивых примеров."
      ],
      "metadata": {
        "id": "dXbVYt4GTCf8"
      }
    }
  ]
}
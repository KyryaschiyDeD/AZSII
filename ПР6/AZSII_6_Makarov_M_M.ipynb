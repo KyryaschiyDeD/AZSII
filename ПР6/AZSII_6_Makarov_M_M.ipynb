{
  "nbformat": 4,
  "nbformat_minor": 0,
  "metadata": {
    "colab": {
      "provenance": []
    },
    "kernelspec": {
      "name": "python3",
      "display_name": "Python 3"
    },
    "language_info": {
      "name": "python"
    }
  },
  "cells": [
    {
      "cell_type": "markdown",
      "source": [
        "# Анализ защищенности систем искусственного интеллекта\n",
        "# Практическая работа № 6\n",
        "# Атака по переносу (Transfer Attack) на модели ИИ\n",
        "## Выполнил студент группы ББМО-02-23\n",
        "## Макаров Михаил Максимович\n"
      ],
      "metadata": {
        "id": "MBVXFneU3vmV"
      }
    },
    {
      "cell_type": "markdown",
      "source": [
        "# Шаг 1: Загрузка и создание двух различных моделей"
      ],
      "metadata": {
        "id": "KU4Mertj4MFu"
      }
    },
    {
      "cell_type": "code",
      "execution_count": 1,
      "metadata": {
        "colab": {
          "base_uri": "https://localhost:8080/"
        },
        "id": "Jyh1CNI03pgu",
        "outputId": "17e15d1f-acc1-4a1b-fde5-2f6c1d920b53"
      },
      "outputs": [
        {
          "output_type": "stream",
          "name": "stdout",
          "text": [
            "Downloading data from https://storage.googleapis.com/tensorflow/tf-keras-datasets/mnist.npz\n",
            "\u001b[1m11490434/11490434\u001b[0m \u001b[32m━━━━━━━━━━━━━━━━━━━━\u001b[0m\u001b[37m\u001b[0m \u001b[1m0s\u001b[0m 0us/step\n"
          ]
        },
        {
          "output_type": "stream",
          "name": "stderr",
          "text": [
            "/usr/local/lib/python3.11/dist-packages/keras/src/layers/reshaping/flatten.py:37: UserWarning: Do not pass an `input_shape`/`input_dim` argument to a layer. When using Sequential models, prefer using an `Input(shape)` object as the first layer in the model instead.\n",
            "  super().__init__(**kwargs)\n"
          ]
        },
        {
          "output_type": "stream",
          "name": "stdout",
          "text": [
            "Epoch 1/5\n",
            "\u001b[1m1875/1875\u001b[0m \u001b[32m━━━━━━━━━━━━━━━━━━━━\u001b[0m\u001b[37m\u001b[0m \u001b[1m11s\u001b[0m 5ms/step - accuracy: 0.8806 - loss: 0.4295\n",
            "Epoch 2/5\n",
            "\u001b[1m1875/1875\u001b[0m \u001b[32m━━━━━━━━━━━━━━━━━━━━\u001b[0m\u001b[37m\u001b[0m \u001b[1m7s\u001b[0m 4ms/step - accuracy: 0.9622 - loss: 0.1281\n",
            "Epoch 3/5\n",
            "\u001b[1m1875/1875\u001b[0m \u001b[32m━━━━━━━━━━━━━━━━━━━━\u001b[0m\u001b[37m\u001b[0m \u001b[1m10s\u001b[0m 4ms/step - accuracy: 0.9770 - loss: 0.0784\n",
            "Epoch 4/5\n",
            "\u001b[1m1875/1875\u001b[0m \u001b[32m━━━━━━━━━━━━━━━━━━━━\u001b[0m\u001b[37m\u001b[0m \u001b[1m6s\u001b[0m 3ms/step - accuracy: 0.9829 - loss: 0.0570\n",
            "Epoch 5/5\n",
            "\u001b[1m1875/1875\u001b[0m \u001b[32m━━━━━━━━━━━━━━━━━━━━\u001b[0m\u001b[37m\u001b[0m \u001b[1m12s\u001b[0m 4ms/step - accuracy: 0.9875 - loss: 0.0417\n"
          ]
        },
        {
          "output_type": "stream",
          "name": "stderr",
          "text": [
            "WARNING:absl:You are saving your model as an HDF5 file via `model.save()` or `keras.saving.save_model(model)`. This file format is considered legacy. We recommend using instead the native Keras format, e.g. `model.save('my_model.keras')` or `keras.saving.save_model(model, 'my_model.keras')`. \n",
            "/usr/local/lib/python3.11/dist-packages/keras/src/layers/convolutional/base_conv.py:107: UserWarning: Do not pass an `input_shape`/`input_dim` argument to a layer. When using Sequential models, prefer using an `Input(shape)` object as the first layer in the model instead.\n",
            "  super().__init__(activity_regularizer=activity_regularizer, **kwargs)\n"
          ]
        },
        {
          "output_type": "stream",
          "name": "stdout",
          "text": [
            "Epoch 1/5\n",
            "\u001b[1m1875/1875\u001b[0m \u001b[32m━━━━━━━━━━━━━━━━━━━━\u001b[0m\u001b[37m\u001b[0m \u001b[1m43s\u001b[0m 22ms/step - accuracy: 0.9053 - loss: 0.3181\n",
            "Epoch 2/5\n",
            "\u001b[1m1875/1875\u001b[0m \u001b[32m━━━━━━━━━━━━━━━━━━━━\u001b[0m\u001b[37m\u001b[0m \u001b[1m41s\u001b[0m 22ms/step - accuracy: 0.9841 - loss: 0.0536\n",
            "Epoch 3/5\n",
            "\u001b[1m1875/1875\u001b[0m \u001b[32m━━━━━━━━━━━━━━━━━━━━\u001b[0m\u001b[37m\u001b[0m \u001b[1m80s\u001b[0m 21ms/step - accuracy: 0.9905 - loss: 0.0306\n",
            "Epoch 4/5\n",
            "\u001b[1m1875/1875\u001b[0m \u001b[32m━━━━━━━━━━━━━━━━━━━━\u001b[0m\u001b[37m\u001b[0m \u001b[1m42s\u001b[0m 22ms/step - accuracy: 0.9936 - loss: 0.0216\n",
            "Epoch 5/5\n",
            "\u001b[1m1875/1875\u001b[0m \u001b[32m━━━━━━━━━━━━━━━━━━━━\u001b[0m\u001b[37m\u001b[0m \u001b[1m42s\u001b[0m 22ms/step - accuracy: 0.9951 - loss: 0.0144\n"
          ]
        },
        {
          "output_type": "stream",
          "name": "stderr",
          "text": [
            "WARNING:absl:You are saving your model as an HDF5 file via `model.save()` or `keras.saving.save_model(model)`. This file format is considered legacy. We recommend using instead the native Keras format, e.g. `model.save('my_model.keras')` or `keras.saving.save_model(model, 'my_model.keras')`. \n"
          ]
        }
      ],
      "source": [
        "import tensorflow as tf\n",
        "from tensorflow.keras.datasets import mnist\n",
        "from tensorflow.keras.models import Sequential\n",
        "from tensorflow.keras.layers import Dense, Flatten, Conv2D, MaxPooling2D\n",
        "from tensorflow.keras.utils import to_categorical\n",
        "# Загрузка данных MNIST\n",
        "(train_images, train_labels), (test_images, test_labels) = mnist.load_data()\n",
        "# Нормализация данных\n",
        "train_images = train_images / 255.0\n",
        "test_images = test_images / 255.0\n",
        "# Преобразование меток в one-hot encoding\n",
        "train_labels = to_categorical(train_labels)\n",
        "test_labels = to_categorical(test_labels)\n",
        "# Модель 1: Простая полносвязная нейронная сеть\n",
        "model1 = Sequential([\n",
        "  Flatten(input_shape=(28, 28)),\n",
        "  Dense(128, activation='relu'),\n",
        "  Dense(10, activation='softmax')])\n",
        "# Компиляция модели\n",
        "model1.compile(optimizer='adam', loss='categorical_crossentropy', metrics= ['accuracy'])\n",
        "# Обучение модели\n",
        "model1.fit(train_images, train_labels, epochs=5)\n",
        "# Сохранение модели\n",
        "model1.save('mnist_model1.h5')\n",
        "# Модель 2: Свёрточная нейронная сеть (CNN)\n",
        "model2 = Sequential([\n",
        "  Conv2D(32, (3, 3), activation='relu', input_shape=(28, 28, 1)),\n",
        "  MaxPooling2D((2, 2)),\n",
        "  Flatten(),\n",
        "  Dense(128, activation='relu'),\n",
        "  Dense(10, activation='softmax')\n",
        "])\n",
        "# Компиляция модели\n",
        "model2.compile(optimizer='adam', loss='categorical_crossentropy', metrics= ['accuracy'])\n",
        "# Обучение модели\n",
        "model2.fit(train_images.reshape(-1, 28, 28, 1), train_labels, epochs=5)\n",
        "# Сохранение модели\n",
        "model2.save('mnist_model2.h5')"
      ]
    },
    {
      "cell_type": "markdown",
      "source": [
        "# Шаг 2: Теория атаки по переносу"
      ],
      "metadata": {
        "id": "M3201SpO4aAf"
      }
    },
    {
      "cell_type": "markdown",
      "source": [
        "Атака по переносу заключается в использовании противоречивых примеров, сгенерированных для одной модели, для атаки на другую модель. Такая возможность возникает из-за того, что модели, даже если они основаны на разных архитектурах, могут обладать схожими уязвимостями и допускать схожие ошибки при обработке определённых данных."
      ],
      "metadata": {
        "id": "DxsZWZBA4bhc"
      }
    },
    {
      "cell_type": "markdown",
      "source": [
        "# Шаг 3: Реализация атаки FGSM на первую модель\n"
      ],
      "metadata": {
        "id": "jQ38MEdU4uyP"
      }
    },
    {
      "cell_type": "code",
      "source": [
        "import numpy as np\n",
        "# Функция для реализации FGSM атаки\n",
        "def fgsm_attack(image, epsilon, gradient):\n",
        "  # Применение знака градиента к изображению\n",
        "  perturbed_image = image + epsilon * np.sign(gradient)\n",
        "  # Обрезка значений, чтобы они оставались в пределах [0,1]\n",
        "  perturbed_image = np.clip(perturbed_image, 0, 1)\n",
        "  return perturbed_image\n",
        "# Вычисление градиента\n",
        "def generate_adversarial_example(model, image, label, epsilon):\n",
        "    # Превращаем изображение в формат, подходящий для модели\n",
        "    image = tf.convert_to_tensor(image.reshape((1, 28, 28, 1)))\n",
        "\n",
        "    # Если label — это one-hot вектор, преобразуем его в индекс\n",
        "    if len(label.shape) > 1 and label.shape[1] > 1:\n",
        "        label = np.argmax(label)\n",
        "    label = tf.convert_to_tensor(label)\n",
        "\n",
        "    with tf.GradientTape() as tape:\n",
        "        tape.watch(image)\n",
        "        prediction = model(image)\n",
        "        loss = tf.keras.losses.categorical_crossentropy(label[None], prediction)\n",
        "\n",
        "    gradient = tape.gradient(loss, image)\n",
        "\n",
        "    # Применяем FGSM\n",
        "    adversarial_image = fgsm_attack(image.numpy(), epsilon, gradient.numpy())\n",
        "\n",
        "    # Убедимся, что adversarial_image имеет правильную форму\n",
        "    return np.reshape(adversarial_image, (28, 28, 1))\n",
        "\n",
        "def generate_adversarial_dataset(model, images, labels, epsilon):\n",
        "    adversarial_images = []\n",
        "    for i in range(len(images)):\n",
        "        adv_image = generate_adversarial_example(model, images[i], labels[i], epsilon)\n",
        "        adversarial_images.append(adv_image.reshape(28, 28))\n",
        "\n",
        "    adversarial_images = np.array(adversarial_images)\n",
        "\n",
        "    # Проверка формы\n",
        "    print(\"Shape of adversarial_images:\", adversarial_images.shape)\n",
        "\n",
        "    return adversarial_images\n",
        "\n",
        "\n",
        "# Генерация противоречивых примеров для первой модели\n",
        "epsilon = 0.1\n",
        "adversarial_images_model1 = generate_adversarial_dataset(model1, test_images, test_labels, epsilon)"
      ],
      "metadata": {
        "colab": {
          "base_uri": "https://localhost:8080/"
        },
        "id": "Ka0oiDrR4l1H",
        "outputId": "293c1b8c-821e-4d5c-8e2d-909840929c04"
      },
      "execution_count": 2,
      "outputs": [
        {
          "output_type": "stream",
          "name": "stdout",
          "text": [
            "Shape of adversarial_images: (10000, 28, 28)\n"
          ]
        }
      ]
    },
    {
      "cell_type": "markdown",
      "source": [
        "# Шаг 4: Оценка противоречивых примеров на обеих моделях"
      ],
      "metadata": {
        "id": "g5DPGeMV4neI"
      }
    },
    {
      "cell_type": "code",
      "source": [
        "# Оценка первой модели на противоречивых примерах\n",
        "loss1, acc1 = model1.evaluate(adversarial_images_model1, test_labels)\n",
        "print(f'Accuracy of model1 on adversarial examples: {acc1}')\n",
        "\n",
        "# Оценка второй модели на противоречивых примерах (перенос атаки)\n",
        "adversarial_images_model1_reshaped = adversarial_images_model1.reshape(-1, 28, 28, 1)\n",
        "loss2, acc2 = model2.evaluate(adversarial_images_model1_reshaped, test_labels)\n",
        "print(f'Accuracy of model2 on adversarial examples from model1: {acc2}')"
      ],
      "metadata": {
        "colab": {
          "base_uri": "https://localhost:8080/"
        },
        "id": "pR2o2IQQ4tz3",
        "outputId": "c81b3345-6dc0-4d9a-817b-4a0e692b5d86"
      },
      "execution_count": 3,
      "outputs": [
        {
          "output_type": "stream",
          "name": "stdout",
          "text": [
            "\u001b[1m313/313\u001b[0m \u001b[32m━━━━━━━━━━━━━━━━━━━━\u001b[0m\u001b[37m\u001b[0m \u001b[1m1s\u001b[0m 1ms/step - accuracy: 0.0724 - loss: 7.1211\n",
            "Accuracy of model1 on adversarial examples: 0.094200000166893\n",
            "\u001b[1m313/313\u001b[0m \u001b[32m━━━━━━━━━━━━━━━━━━━━\u001b[0m\u001b[37m\u001b[0m \u001b[1m2s\u001b[0m 6ms/step - accuracy: 0.9594 - loss: 0.1374\n",
            "Accuracy of model2 on adversarial examples from model1: 0.9664999842643738\n"
          ]
        }
      ]
    },
    {
      "cell_type": "markdown",
      "source": [
        "# Шаг 5: Анализ переносимости атак"
      ],
      "metadata": {
        "id": "tl2-Lb6v6uhz"
      }
    },
    {
      "cell_type": "code",
      "source": [
        "# Генерация противоречивых примеров для второй модели\n",
        "adversarial_images_model2 = generate_adversarial_dataset(model2,\n",
        "test_images.reshape(-1, 28, 28, 1), test_labels, epsilon)\n",
        "\n",
        "# Оценка первой модели на противоречивых примерах второй модели\n",
        "loss3, acc3 = model1.evaluate(adversarial_images_model2.reshape(-1, 28,\n",
        "28), test_labels)\n",
        "print(f'Accuracy of model1 on adversarial examples from model2: {acc3}')"
      ],
      "metadata": {
        "colab": {
          "base_uri": "https://localhost:8080/"
        },
        "id": "iY_QGUvC61mA",
        "outputId": "d9899bbf-acd6-4c30-835e-90a9e0643c17"
      },
      "execution_count": 4,
      "outputs": [
        {
          "output_type": "stream",
          "name": "stdout",
          "text": [
            "Shape of adversarial_images: (10000, 28, 28)\n",
            "\u001b[1m313/313\u001b[0m \u001b[32m━━━━━━━━━━━━━━━━━━━━\u001b[0m\u001b[37m\u001b[0m \u001b[1m0s\u001b[0m 1ms/step - accuracy: 0.8990 - loss: 0.3265\n",
            "Accuracy of model1 on adversarial examples from model2: 0.9193999767303467\n"
          ]
        }
      ]
    },
    {
      "cell_type": "markdown",
      "source": [
        "# Вывод:"
      ],
      "metadata": {
        "id": "gQJNQa2m7Haq"
      }
    },
    {
      "cell_type": "markdown",
      "source": [
        "В ходе исследования было изучено влияние атаки по переносу, при которой противоречивые примеры, созданные для одной модели, применялись для атаки на другую. Для генерации таких примеров использовался метод FGSM (Fast Gradient Sign Method).\n",
        "\n",
        "Результаты эксперимента показали следующее:\n",
        "\n",
        "Модель 1, для которой были сгенерированы противоречивые примеры с помощью FGSM, испытала огромное снижение точности.\n",
        "\n",
        "Модель 2, напротив, оказалась более устойчивой к атаке\n",
        "\n",
        "Кроме того, были созданы противоречивые примеры с использованием FGSM для модели 2 и протестированы на модели 1. В этом случае точность модели 1 также снизилась, но падение составило всего около 3%.\n",
        "\n",
        "Таким образом, результаты исследования подтверждают, что атака по переносу с использованием FGSM может значительно снизить точность модели, особенно если примеры генерируются непосредственно для неё. В то же время, модель с более высокой устойчивостью демонстрирует меньшую восприимчивость к подобным атакам.\n",
        "\n"
      ],
      "metadata": {
        "id": "E8USxaMI7dZL"
      }
    }
  ]
}
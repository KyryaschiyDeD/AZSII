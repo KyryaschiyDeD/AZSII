{
  "cells": [
    {
      "cell_type": "markdown",
      "metadata": {
        "id": "FKl06fC8MqgR"
      },
      "source": [
        "# Практическая работа №2\n",
        "\n",
        "# Выполнил студент группы ББМО-02-23 Макаров М.М.\n",
        "\n",
        "## Шаги выполнения\n",
        "\n",
        "### Шаг 1. Загрузка обученной модели и данных MNIST"
      ]
    },
    {
      "cell_type": "code",
      "execution_count": 12,
      "metadata": {
        "colab": {
          "base_uri": "https://localhost:8080/"
        },
        "id": "Gt1lcHHdM2Qq",
        "outputId": "17421cce-fd82-464e-a047-3ea9494a0d36"
      },
      "outputs": [
        {
          "output_type": "stream",
          "name": "stderr",
          "text": [
            "WARNING:absl:Compiled the loaded model, but the compiled metrics have yet to be built. `model.compile_metrics` will be empty until you train or evaluate the model.\n"
          ]
        },
        {
          "output_type": "stream",
          "name": "stdout",
          "text": [
            "\u001b[1m313/313\u001b[0m \u001b[32m━━━━━━━━━━━━━━━━━━━━\u001b[0m\u001b[37m\u001b[0m \u001b[1m1s\u001b[0m 3ms/step - accuracy: 0.9747 - loss: 0.0838\n",
            "Test accuracy on clean images: 0.9781000018119812\n"
          ]
        }
      ],
      "source": [
        "import tensorflow as tf\n",
        "from tensorflow.keras.datasets import mnist\n",
        "from tensorflow.keras.utils import to_categorical\n",
        "\n",
        "# Загрузка тестовых данных MNIST\n",
        "(_, _), (test_images, test_labels) = mnist.load_data()\n",
        "\n",
        "# Нормализация данных\n",
        "test_images = test_images / 255.0\n",
        "\n",
        "# Преобразование меток в формат one-hot\n",
        "test_labels = to_categorical(test_labels, num_classes=10)\n",
        "\n",
        "# Загрузка обученной модели\n",
        "model = tf.keras.models.load_model('mnist_model.h5')\n",
        "\n",
        "# Проверка точности модели на обычных данных\n",
        "test_loss, test_acc = model.evaluate(test_images, test_labels)\n",
        "print(f'Test accuracy on clean images: {test_acc}')\n"
      ]
    },
    {
      "cell_type": "markdown",
      "metadata": {
        "id": "jJsiCu2_NCS_"
      },
      "source": [
        "###Шаг 2: Реализация атаки FGSM"
      ]
    },
    {
      "cell_type": "code",
      "execution_count": 13,
      "metadata": {
        "colab": {
          "base_uri": "https://localhost:8080/",
          "height": 308
        },
        "id": "ySy0YHHJNWwo",
        "outputId": "fd832a11-6247-4a53-ab2e-059c5fafb1b0"
      },
      "outputs": [
        {
          "output_type": "display_data",
          "data": {
            "text/plain": [
              "<Figure size 640x480 with 2 Axes>"
            ],
            "image/png": "[encoded data removed]"
          },
          "metadata": {}
        }
      ],
      "source": [
        "import numpy as np\n",
        "# Функция для реализации FGSM атаки\n",
        "def fgsm_attack(image, epsilon, gradient):\n",
        "  # Применение знака градиента к изображению\n",
        "  perturbed_image = image + epsilon * np.sign(gradient)\n",
        "  # Обрезка значений, чтобы они оставались в пределах [0,1]\n",
        "  perturbed_image = np.clip(perturbed_image, 0, 1)\n",
        "  return perturbed_image\n",
        "# Вычисление градиента\n",
        "def generate_adversarial_example(model, image, label, epsilon):\n",
        "    # Превращаем изображение в формат, подходящий для модели\n",
        "    image = tf.convert_to_tensor(image.reshape((1, 28, 28, 1)))\n",
        "\n",
        "    # Если label — это one-hot вектор, преобразуем его в индекс\n",
        "    if len(label.shape) > 1 and label.shape[1] > 1:\n",
        "        label = np.argmax(label)\n",
        "    label = tf.convert_to_tensor(label)\n",
        "\n",
        "    with tf.GradientTape() as tape:\n",
        "        tape.watch(image)\n",
        "        prediction = model(image)\n",
        "        loss = tf.keras.losses.categorical_crossentropy(label[None], prediction)\n",
        "\n",
        "    gradient = tape.gradient(loss, image)\n",
        "\n",
        "    # Применяем FGSM\n",
        "    adversarial_image = fgsm_attack(image.numpy(), epsilon, gradient.numpy())\n",
        "\n",
        "    # Убедимся, что adversarial_image имеет правильную форму\n",
        "    return np.reshape(adversarial_image, (28, 28, 1))\n",
        "\n",
        "# Пример использования\n",
        "epsilon = 0.1  # Величина шума\n",
        "adversarial_example = generate_adversarial_example(model, test_images[0], test_labels[0], epsilon)\n",
        "# Вывод результатов\n",
        "import matplotlib.pyplot as plt\n",
        "plt.figure()\n",
        "plt.subplot(1, 2, 1)\n",
        "plt.title(\"Оригинальное изображение\")\n",
        "plt.imshow(test_images[0], cmap=\"gray\")\n",
        "plt.subplot(1, 2, 2)\n",
        "plt.title(\"Противоречивое изображение\")\n",
        "plt.imshow(adversarial_example.reshape(28, 28), cmap=\"gray\")\n",
        "plt.show()"
      ]
    },
    {
      "cell_type": "markdown",
      "metadata": {
        "id": "6Akot1nnZck6"
      },
      "source": [
        "###Шаг 4: Оценка модели на противоречивых примерах"
      ]
    },
    {
      "cell_type": "code",
      "execution_count": 14,
      "metadata": {
        "colab": {
          "base_uri": "https://localhost:8080/"
        },
        "id": "LGP6uDGAZvJX",
        "outputId": "2feef87a-2b36-492f-b1d4-c5d8bd066076"
      },
      "outputs": [
        {
          "output_type": "stream",
          "name": "stdout",
          "text": [
            "Shape of adversarial_images: (10000, 28, 28)\n",
            "\u001b[1m313/313\u001b[0m \u001b[32m━━━━━━━━━━━━━━━━━━━━\u001b[0m\u001b[37m\u001b[0m \u001b[1m1s\u001b[0m 2ms/step - accuracy: 0.0885 - loss: 6.9005\n",
            "Accuracy on a small subset of adversarial examples: 0.11270000040531158\n"
          ]
        }
      ],
      "source": [
        "def generate_adversarial_dataset(model, images, labels, epsilon):\n",
        "    adversarial_images = []\n",
        "    for i in range(len(images)):\n",
        "        adv_image = generate_adversarial_example(model, images[i], labels[i], epsilon)\n",
        "        adversarial_images.append(adv_image.reshape(28, 28))\n",
        "\n",
        "    adversarial_images = np.array(adversarial_images)\n",
        "\n",
        "    # Проверка формы\n",
        "    print(\"Shape of adversarial_images:\", adversarial_images.shape)\n",
        "\n",
        "    return adversarial_images\n",
        "\n",
        "# Генерация противоречивых примеров\n",
        "adversarial_images = generate_adversarial_dataset(model, test_images, test_labels, epsilon)\n",
        "\n",
        "# Проверка размеров\n",
        "adversarial_loss, adversarial_acc = model.evaluate(adversarial_images, test_labels)\n",
        "print(f'Accuracy on a small subset of adversarial examples: {adversarial_acc}')\n"
      ]
    },
    {
      "cell_type": "markdown",
      "source": [
        "#Вывод:\n",
        "Точность на обычных примерах составляет 97,81%, на противоречивых — всего 11,27%. Модель уязвима к атакующим примерам, что является распространённой проблемой в области машинного обучения.\n",
        "\n",
        "Такое падение точности говорит о том, что модель не справляется с задачей распознавания в условиях небольших, но целенаправленных искажений. Это подчеркивает важность разработки более устойчивых моделей и применения методов защиты от атак, чтобы улучшить надежность в реальных приложениях."
      ],
      "metadata": {
        "id": "cq9s_3FMEsj3"
      }
    }
  ],
  "metadata": {
    "colab": {
      "provenance": []
    },
    "kernelspec": {
      "display_name": "Python 3",
      "name": "python3"
    },
    "language_info": {
      "name": "python"
    }
  },
  "nbformat": 4,
  "nbformat_minor": 0
}